{
 "cells": [
  {
   "cell_type": "code",
   "execution_count": 16,
   "metadata": {},
   "outputs": [
    {
     "name": "stdout",
     "output_type": "stream",
     "text": [
      "['trek', 'cannodale', 'redline', 'specialized', 'giant']\n",
      "redline\n",
      "trek\n",
      "giant\n",
      "['cannodale', 'redline']\n",
      "[]\n"
     ]
    }
   ],
   "source": [
    "bicycles = ['trek', 'cannodale', 'redline', 'specialized', 'giant']\n",
    "print(bicycles)\n",
    "print(bicycles[2])\n",
    "print(bicycles[0])\n",
    "print(bicycles[-1])\n",
    "print(bicycles[1:3])\n",
    "print(bicycles[-1:-3])"
   ]
  }
 ],
 "metadata": {
  "kernelspec": {
   "display_name": "Python 3.9.12 ('base')",
   "language": "python",
   "name": "python3"
  },
  "language_info": {
   "codemirror_mode": {
    "name": "ipython",
    "version": 3
   },
   "file_extension": ".py",
   "mimetype": "text/x-python",
   "name": "python",
   "nbconvert_exporter": "python",
   "pygments_lexer": "ipython3",
   "version": "3.9.12"
  },
  "orig_nbformat": 4,
  "vscode": {
   "interpreter": {
    "hash": "1908c1d139a202a4f8fa5d7e46ff4630b5382becc0850ab0127e684ccfdff0fb"
   }
  }
 },
 "nbformat": 4,
 "nbformat_minor": 2
}
