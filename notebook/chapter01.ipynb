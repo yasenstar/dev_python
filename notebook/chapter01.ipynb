{
 "cells": [
  {
   "cell_type": "code",
   "execution_count": 2,
   "metadata": {},
   "outputs": [
    {
     "name": "stdout",
     "output_type": "stream",
     "text": [
      "Hello Python intepreter!\n"
     ]
    }
   ],
   "source": [
    "print(\"Hello Python intepreter!\")"
   ]
  },
  {
   "cell_type": "code",
   "execution_count": 3,
   "metadata": {},
   "outputs": [
    {
     "name": "stdout",
     "output_type": "stream",
     "text": [
      "Hello Python intepreter!\n"
     ]
    }
   ],
   "source": [
    "print('Hello Python intepreter!')"
   ]
  }
 ],
 "metadata": {
  "kernelspec": {
   "display_name": "Python 3.9.12 ('base')",
   "language": "python",
   "name": "python3"
  },
  "language_info": {
   "codemirror_mode": {
    "name": "ipython",
    "version": 3
   },
   "file_extension": ".py",
   "mimetype": "text/x-python",
   "name": "python",
   "nbconvert_exporter": "python",
   "pygments_lexer": "ipython3",
   "version": "3.9.12"
  },
  "orig_nbformat": 4,
  "vscode": {
   "interpreter": {
    "hash": "1908c1d139a202a4f8fa5d7e46ff4630b5382becc0850ab0127e684ccfdff0fb"
   }
  }
 },
 "nbformat": 4,
 "nbformat_minor": 2
}
