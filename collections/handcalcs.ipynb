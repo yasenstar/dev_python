import handcalcs.render
from math import sqrt

%%render
a = 3
b = -10
c = 2